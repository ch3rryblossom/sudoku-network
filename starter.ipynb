{
 "cells": [
  {
   "cell_type": "markdown",
   "metadata": {},
   "source": [
    "### Understanding and dissecting Chowdhary and Assisi, 2019"
   ]
  },
  {
   "cell_type": "markdown",
   "metadata": {},
   "source": [
    "#### To-do list\n",
    "\n",
    "1. Two reciprocally coupled **excitatory** oscillators\n",
    "\t- (to observe synchrony)\n",
    "2. Two reciprocally coupled **inhibitory** oscillators\n",
    "\t- (to observe asynchrony)\n",
    "3. Bipartite networks\n",
    "\t1. No within-group connections\n",
    "\t2. Complementary edges are excitatory connections\n",
    "\t3. Ratio of cumulative strength of excitation/inhibition is varied\n",
    "4. Balanced sudoku network"
   ]
  },
  {
   "cell_type": "code",
   "execution_count": 1,
   "metadata": {},
   "outputs": [
    {
     "name": "stderr",
     "output_type": "stream",
     "text": [
      "INFO       Cache size for target 'cython': 1136999568 MB.\n",
      "You can call clear_cache('cython') to delete all files from the cache or manually delete files in the 'C:\\Users\\admin\\.cython\\brian_extensions' directory. [brian2]\n"
     ]
    }
   ],
   "source": [
    "from brian2 import *"
   ]
  },
  {
   "cell_type": "code",
   "execution_count": 2,
   "metadata": {},
   "outputs": [],
   "source": [
    "%matplotlib inline"
   ]
  }
 ],
 "metadata": {
  "kernelspec": {
   "display_name": "brianenv",
   "language": "python",
   "name": "brianenv"
  },
  "language_info": {
   "codemirror_mode": {
    "name": "ipython",
    "version": 3
   },
   "file_extension": ".py",
   "mimetype": "text/x-python",
   "name": "python",
   "nbconvert_exporter": "python",
   "pygments_lexer": "ipython3",
   "version": "3.10.5"
  },
  "orig_nbformat": 4
 },
 "nbformat": 4,
 "nbformat_minor": 2
}
