{
 "cells": [
  {
   "cell_type": "markdown",
   "metadata": {},
   "source": [
    "## Bipartite networks from Chowdhary and Assisi, 2019"
   ]
  },
  {
   "cell_type": "markdown",
   "metadata": {},
   "source": [
    "#### To-do list\n",
    "3. Bipartite networks\n",
    "\t1. No within-group connections\n",
    "\t2. Complementary edges are excitatory connections\n",
    "\t3. Ratio of cumulative strength of excitation/inhibition is varied"
   ]
  },
  {
   "cell_type": "markdown",
   "metadata": {},
   "source": [
    "#### Imports/Init"
   ]
  },
  {
   "cell_type": "code",
   "execution_count": 1,
   "metadata": {},
   "outputs": [
    {
     "name": "stderr",
     "output_type": "stream",
     "text": [
      "INFO       Cache size for target 'cython': 1731385843 MB.\n",
      "You can call clear_cache('cython') to delete all files from the cache or manually delete files in the 'C:\\Users\\admin\\.cython\\brian_extensions' directory. [brian2]\n"
     ]
    }
   ],
   "source": [
    "from brian2 import *\n",
    "%matplotlib inline"
   ]
  },
  {
   "cell_type": "code",
   "execution_count": 2,
   "metadata": {},
   "outputs": [],
   "source": [
    "# Constants\n",
    "tau = 4*ms\n",
    "I = 1.1/ms\n",
    "gamma = 1/ms\n",
    "\n",
    "# Non-dimensionalized constants\n",
    "tp = tau/ms\n",
    "curr = I*ms\n",
    "g = gamma*ms\n",
    "out = curr/g\n",
    "\n",
    "# equation (1)\n",
    "eqs = '''\n",
    "dv/dt = I - gamma*v : 1\n",
    "'''\n",
    "\n",
    "# equation (2) \n",
    "eqs2 = '''\n",
    "dv/dt = ((I/gamma) - v)/tau : 1\n",
    "'''"
   ]
  },
  {
   "cell_type": "code",
   "execution_count": 6,
   "metadata": {},
   "outputs": [
    {
     "data": {
      "image/png": "[encoded data removed]",
      "text/plain": [
       "<Figure size 640x480 with 1 Axes>"
      ]
     },
     "metadata": {},
     "output_type": "display_data"
    }
   ],
   "source": [
    "# From starter.ipynb\n",
    "# Init all 10 neurons with random starting V, the groups G1 and G2 are connected with probability of 0.6 as in the paper\n",
    "# (only inhibitory connections across the groups, no other connections)\n",
    "\n",
    "start_scope()\n",
    "\n",
    "exc = 0.1\n",
    "\n",
    "G1 = NeuronGroup(10, eqs2, threshold='v>1', reset='v = 0', method='exact')\n",
    "G2 = NeuronGroup(10, eqs2, threshold='v>1', reset='v = 0', method='exact')\n",
    "\n",
    "G1.v = 'rand()'\n",
    "G2.v = 'rand()'\n",
    "\n",
    "S1 = Synapses(G1, G2, on_pre='v_post = out * (1-exp(-(tp * log(1/(1 - g*(v_post - exc)/curr)))/tp))')\n",
    "S2 = Synapses(G2, G1, on_pre='v_post = out * (1-exp(-(tp * log(1/(1 - g*(v_post - exc)/curr)))/tp))')\n",
    "\n",
    "S1.connect(p = 0.6)\n",
    "S2.connect(p = 0.6)\n",
    "\n",
    "M1 = StateMonitor(G1, 'v', record=True)\n",
    "M2 = StateMonitor(G2, 'v', record=True)\n",
    "Sp1 = SpikeMonitor(G1)\n",
    "Sp2 = SpikeMonitor(G2)\n",
    "\n",
    "run(100*ms)\n",
    "\n",
    "plot(Sp1.t/ms, Sp1.i, '.b')\n",
    "plot(Sp2.t/ms, Sp2.i, '.y')\n",
    "xlabel('Time (ms)')\n",
    "ylabel('Neuron index');"
   ]
  },
  {
   "cell_type": "code",
   "execution_count": null,
   "metadata": {},
   "outputs": [],
   "source": [
    "# ISI Plotter (needs to be modded for this version with multiple neurons)\n",
    "spikes = min(len(Sp2.t[:]), len(Sp1.t[:]))\n",
    "Vals = Sp1.t[:spikes] - Sp2.t[:spikes]\n",
    "\n",
    "plot(Sp1.t/ms, Vals/ms)\n",
    "plt.axhline(y = 0, color = 'r', linestyle = '--')\n",
    "plt.axhline(y = 11/2, color = 'g', linestyle = '--')\n",
    "xlabel('Time')\n",
    "ylabel('Interspike Intervals')\n",
    "ylim(-10, 10);"
   ]
  }
 ],
 "metadata": {
  "kernelspec": {
   "display_name": "brianenv",
   "language": "python",
   "name": "brianenv"
  },
  "language_info": {
   "codemirror_mode": {
    "name": "ipython",
    "version": 3
   },
   "file_extension": ".py",
   "mimetype": "text/x-python",
   "name": "python",
   "nbconvert_exporter": "python",
   "pygments_lexer": "ipython3",
   "version": "3.10.5"
  },
  "orig_nbformat": 4,
  "vscode": {
   "interpreter": {
    "hash": "81794d4967e6c3204c66dcd87b604927b115b27c00565d3d43f05ba2f3a2cb0d"
   }
  }
 },
 "nbformat": 4,
 "nbformat_minor": 2
}
